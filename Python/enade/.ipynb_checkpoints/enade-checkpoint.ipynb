{
 "cells": [
  {
   "cell_type": "code",
   "execution_count": null,
   "metadata": {},
   "outputs": [],
   "source": [
    "#Carregando os pacotes utilizados\n",
    "import pandas as pd\n",
    "import seaborn as sns\n",
    "import matplotlib.pyplot as plt"
   ]
  },
  {
   "cell_type": "code",
   "execution_count": 3,
   "metadata": {},
   "outputs": [],
   "source": [
    "#carregando os dados\n",
    "enade =  open(\"enade.csv\",\"r\")\n",
    "enade = pd.read_table(BRUTO,delimiter=\";\",decimal =\",\")"
   ]
  },
  {
   "cell_type": "code",
   "execution_count": 64,
   "metadata": {},
   "outputs": [
    {
     "data": {
      "text/html": [
       "<div>\n",
       "<style scoped>\n",
       "    .dataframe tbody tr th:only-of-type {\n",
       "        vertical-align: middle;\n",
       "    }\n",
       "\n",
       "    .dataframe tbody tr th {\n",
       "        vertical-align: top;\n",
       "    }\n",
       "\n",
       "    .dataframe thead th {\n",
       "        text-align: right;\n",
       "    }\n",
       "</style>\n",
       "<table border=\"1\" class=\"dataframe\">\n",
       "  <thead>\n",
       "    <tr style=\"text-align: right;\">\n",
       "      <th></th>\n",
       "      <th>NU_ANO</th>\n",
       "      <th>CO_IES</th>\n",
       "      <th>CO_CATEGAD</th>\n",
       "      <th>CO_ORGACAD</th>\n",
       "      <th>CO_GRUPO</th>\n",
       "      <th>CO_CURSO</th>\n",
       "      <th>CO_MODALIDADE</th>\n",
       "      <th>CO_MUNIC_CURSO</th>\n",
       "      <th>CO_UF_CURSO</th>\n",
       "      <th>CO_REGIAO_CURSO</th>\n",
       "      <th>...</th>\n",
       "      <th>QE_I59</th>\n",
       "      <th>QE_I60</th>\n",
       "      <th>QE_I61</th>\n",
       "      <th>QE_I62</th>\n",
       "      <th>QE_I63</th>\n",
       "      <th>QE_I64</th>\n",
       "      <th>QE_I65</th>\n",
       "      <th>QE_I66</th>\n",
       "      <th>QE_I67</th>\n",
       "      <th>QE_I68</th>\n",
       "    </tr>\n",
       "  </thead>\n",
       "  <tbody>\n",
       "    <tr>\n",
       "      <th>0</th>\n",
       "      <td>2019</td>\n",
       "      <td>1</td>\n",
       "      <td>10002</td>\n",
       "      <td>10028</td>\n",
       "      <td>5710</td>\n",
       "      <td>3</td>\n",
       "      <td>1</td>\n",
       "      <td>5103403</td>\n",
       "      <td>51</td>\n",
       "      <td>5</td>\n",
       "      <td>...</td>\n",
       "      <td>2.0</td>\n",
       "      <td>5.0</td>\n",
       "      <td>1.0</td>\n",
       "      <td>1.0</td>\n",
       "      <td>2.0</td>\n",
       "      <td>5.0</td>\n",
       "      <td>8.0</td>\n",
       "      <td>7.0</td>\n",
       "      <td>1.0</td>\n",
       "      <td>2.0</td>\n",
       "    </tr>\n",
       "    <tr>\n",
       "      <th>1</th>\n",
       "      <td>2019</td>\n",
       "      <td>1</td>\n",
       "      <td>10002</td>\n",
       "      <td>10028</td>\n",
       "      <td>5710</td>\n",
       "      <td>3</td>\n",
       "      <td>1</td>\n",
       "      <td>5103403</td>\n",
       "      <td>51</td>\n",
       "      <td>5</td>\n",
       "      <td>...</td>\n",
       "      <td>1.0</td>\n",
       "      <td>4.0</td>\n",
       "      <td>2.0</td>\n",
       "      <td>2.0</td>\n",
       "      <td>2.0</td>\n",
       "      <td>5.0</td>\n",
       "      <td>4.0</td>\n",
       "      <td>4.0</td>\n",
       "      <td>2.0</td>\n",
       "      <td>2.0</td>\n",
       "    </tr>\n",
       "    <tr>\n",
       "      <th>2</th>\n",
       "      <td>2019</td>\n",
       "      <td>1</td>\n",
       "      <td>10002</td>\n",
       "      <td>10028</td>\n",
       "      <td>5710</td>\n",
       "      <td>3</td>\n",
       "      <td>1</td>\n",
       "      <td>5103403</td>\n",
       "      <td>51</td>\n",
       "      <td>5</td>\n",
       "      <td>...</td>\n",
       "      <td>3.0</td>\n",
       "      <td>4.0</td>\n",
       "      <td>4.0</td>\n",
       "      <td>3.0</td>\n",
       "      <td>3.0</td>\n",
       "      <td>4.0</td>\n",
       "      <td>1.0</td>\n",
       "      <td>1.0</td>\n",
       "      <td>1.0</td>\n",
       "      <td>4.0</td>\n",
       "    </tr>\n",
       "    <tr>\n",
       "      <th>3</th>\n",
       "      <td>2019</td>\n",
       "      <td>1</td>\n",
       "      <td>10002</td>\n",
       "      <td>10028</td>\n",
       "      <td>5710</td>\n",
       "      <td>3</td>\n",
       "      <td>1</td>\n",
       "      <td>5103403</td>\n",
       "      <td>51</td>\n",
       "      <td>5</td>\n",
       "      <td>...</td>\n",
       "      <td>3.0</td>\n",
       "      <td>5.0</td>\n",
       "      <td>2.0</td>\n",
       "      <td>2.0</td>\n",
       "      <td>2.0</td>\n",
       "      <td>3.0</td>\n",
       "      <td>3.0</td>\n",
       "      <td>4.0</td>\n",
       "      <td>3.0</td>\n",
       "      <td>3.0</td>\n",
       "    </tr>\n",
       "    <tr>\n",
       "      <th>4</th>\n",
       "      <td>2019</td>\n",
       "      <td>1</td>\n",
       "      <td>10002</td>\n",
       "      <td>10028</td>\n",
       "      <td>5710</td>\n",
       "      <td>3</td>\n",
       "      <td>1</td>\n",
       "      <td>5103403</td>\n",
       "      <td>51</td>\n",
       "      <td>5</td>\n",
       "      <td>...</td>\n",
       "      <td>NaN</td>\n",
       "      <td>NaN</td>\n",
       "      <td>NaN</td>\n",
       "      <td>NaN</td>\n",
       "      <td>NaN</td>\n",
       "      <td>NaN</td>\n",
       "      <td>NaN</td>\n",
       "      <td>NaN</td>\n",
       "      <td>NaN</td>\n",
       "      <td>NaN</td>\n",
       "    </tr>\n",
       "  </tbody>\n",
       "</table>\n",
       "<p>5 rows × 137 columns</p>\n",
       "</div>"
      ],
      "text/plain": [
       "   NU_ANO  CO_IES  CO_CATEGAD  CO_ORGACAD  CO_GRUPO  CO_CURSO  CO_MODALIDADE  \\\n",
       "0    2019       1       10002       10028      5710         3              1   \n",
       "1    2019       1       10002       10028      5710         3              1   \n",
       "2    2019       1       10002       10028      5710         3              1   \n",
       "3    2019       1       10002       10028      5710         3              1   \n",
       "4    2019       1       10002       10028      5710         3              1   \n",
       "\n",
       "   CO_MUNIC_CURSO  CO_UF_CURSO  CO_REGIAO_CURSO  ...  QE_I59 QE_I60  QE_I61  \\\n",
       "0         5103403           51                5  ...     2.0    5.0     1.0   \n",
       "1         5103403           51                5  ...     1.0    4.0     2.0   \n",
       "2         5103403           51                5  ...     3.0    4.0     4.0   \n",
       "3         5103403           51                5  ...     3.0    5.0     2.0   \n",
       "4         5103403           51                5  ...     NaN    NaN     NaN   \n",
       "\n",
       "   QE_I62  QE_I63  QE_I64  QE_I65  QE_I66  QE_I67  QE_I68  \n",
       "0     1.0     2.0     5.0     8.0     7.0     1.0     2.0  \n",
       "1     2.0     2.0     5.0     4.0     4.0     2.0     2.0  \n",
       "2     3.0     3.0     4.0     1.0     1.0     1.0     4.0  \n",
       "3     2.0     2.0     3.0     3.0     4.0     3.0     3.0  \n",
       "4     NaN     NaN     NaN     NaN     NaN     NaN     NaN  \n",
       "\n",
       "[5 rows x 137 columns]"
      ]
     },
     "execution_count": 64,
     "metadata": {},
     "output_type": "execute_result"
    }
   ],
   "source": [
    "#Visualizando as 5 primeiras linhas do banco de dados\n",
    "df.head()"
   ]
  },
  {
   "cell_type": "code",
   "execution_count": 78,
   "metadata": {},
   "outputs": [],
   "source": [
    "#Selecionando as variáveis que vou utilizar\n",
    "variaveis = ['CO_UF_CURSO','NU_IDADE','TP_PRES',\n",
    "             'CO_MODALIDADE','NT_GER','QE_I17','QE_I21']"
   ]
  },
  {
   "cell_type": "code",
   "execution_count": 79,
   "metadata": {},
   "outputs": [
    {
     "data": {
      "text/html": [
       "<div>\n",
       "<style scoped>\n",
       "    .dataframe tbody tr th:only-of-type {\n",
       "        vertical-align: middle;\n",
       "    }\n",
       "\n",
       "    .dataframe tbody tr th {\n",
       "        vertical-align: top;\n",
       "    }\n",
       "\n",
       "    .dataframe thead th {\n",
       "        text-align: right;\n",
       "    }\n",
       "</style>\n",
       "<table border=\"1\" class=\"dataframe\">\n",
       "  <thead>\n",
       "    <tr style=\"text-align: right;\">\n",
       "      <th></th>\n",
       "      <th>CO_UF_CURSO</th>\n",
       "      <th>NU_IDADE</th>\n",
       "      <th>TP_PRES</th>\n",
       "      <th>CO_MODALIDADE</th>\n",
       "      <th>NT_GER</th>\n",
       "      <th>QE_I17</th>\n",
       "      <th>QE_I21</th>\n",
       "    </tr>\n",
       "  </thead>\n",
       "  <tbody>\n",
       "    <tr>\n",
       "      <th>0</th>\n",
       "      <td>51</td>\n",
       "      <td>27</td>\n",
       "      <td>555</td>\n",
       "      <td>1</td>\n",
       "      <td>51.9</td>\n",
       "      <td>B</td>\n",
       "      <td>A</td>\n",
       "    </tr>\n",
       "    <tr>\n",
       "      <th>1</th>\n",
       "      <td>51</td>\n",
       "      <td>26</td>\n",
       "      <td>555</td>\n",
       "      <td>1</td>\n",
       "      <td>54.2</td>\n",
       "      <td>B</td>\n",
       "      <td>A</td>\n",
       "    </tr>\n",
       "    <tr>\n",
       "      <th>2</th>\n",
       "      <td>51</td>\n",
       "      <td>23</td>\n",
       "      <td>222</td>\n",
       "      <td>1</td>\n",
       "      <td>NaN</td>\n",
       "      <td>A</td>\n",
       "      <td>A</td>\n",
       "    </tr>\n",
       "    <tr>\n",
       "      <th>3</th>\n",
       "      <td>51</td>\n",
       "      <td>24</td>\n",
       "      <td>555</td>\n",
       "      <td>1</td>\n",
       "      <td>42.1</td>\n",
       "      <td>B</td>\n",
       "      <td>A</td>\n",
       "    </tr>\n",
       "    <tr>\n",
       "      <th>4</th>\n",
       "      <td>51</td>\n",
       "      <td>41</td>\n",
       "      <td>222</td>\n",
       "      <td>1</td>\n",
       "      <td>NaN</td>\n",
       "      <td></td>\n",
       "      <td></td>\n",
       "    </tr>\n",
       "  </tbody>\n",
       "</table>\n",
       "</div>"
      ],
      "text/plain": [
       "   CO_UF_CURSO  NU_IDADE  TP_PRES  CO_MODALIDADE  NT_GER QE_I17 QE_I21\n",
       "0           51        27      555              1    51.9      B      A\n",
       "1           51        26      555              1    54.2      B      A\n",
       "2           51        23      222              1     NaN      A      A\n",
       "3           51        24      555              1    42.1      B      A\n",
       "4           51        41      222              1     NaN              "
      ]
     },
     "execution_count": 79,
     "metadata": {},
     "output_type": "execute_result"
    }
   ],
   "source": [
    "#filtrando o banco de dados com as variáveis selecionadas\n",
    "enade = df.filter(items = variaveis)\n",
    "enade.head()"
   ]
  },
  {
   "cell_type": "code",
   "execution_count": 80,
   "metadata": {},
   "outputs": [],
   "source": [
    "######### DESCRIÇÃO DAS VARIÁVEIS ###############\n",
    "#CO_UF_CURSO - Código da UF de funcionamento do curso\n",
    "#NU_IDADE - Idade do inscrito em 24/11/2019\n",
    "#TP_PRES - Tipo de presença no Enade\n",
    "#CO_MODADELIDADE - Código da Modalidade de Ensino\n",
    "#NT_GER - Nota bruta da prova - Média ponderada da formação geral (25%) e componente específico (75%). (valor de 0 a 100)\n",
    "#QE_I17 - Em que tipo de escola você cursou o ensino médio?\n",
    "#QE_I21 -Alguém em sua família concluiu um curso superior?"
   ]
  },
  {
   "cell_type": "code",
   "execution_count": 81,
   "metadata": {},
   "outputs": [],
   "source": [
    "# Filtrando os candidatos presentes com resultado válido\n",
    "enade = enade.loc[enade['TP_PRES']==555]\n"
   ]
  },
  {
   "cell_type": "code",
   "execution_count": 82,
   "metadata": {},
   "outputs": [],
   "source": [
    "# Retirando as linhas que o resultado da Nota bruta da prova era inexistente\n",
    "enade.dropna(subset=['NT_GER'],inplace=True)"
   ]
  },
  {
   "cell_type": "code",
   "execution_count": 83,
   "metadata": {},
   "outputs": [],
   "source": [
    "# Selecionando os candidatos que fizeram o ensino médio apenas no Brasil\n",
    "enade=enade.loc[(enade['QE_I17']=='A') | (enade['QE_I17']=='B')| (enade['QE_I17']=='D')| (enade['QE_I17']=='E')]"
   ]
  },
  {
   "cell_type": "code",
   "execution_count": 84,
   "metadata": {
    "scrolled": false
   },
   "outputs": [],
   "source": [
    "#Criando dicionário para descrever os estados \n",
    "UF_dicionario = {11:'RO',\n",
    "12:'AC',\n",
    "13:'AM',\n",
    "14:'RR',\n",
    "15:'PA',\n",
    "16:'AP',\n",
    "17:'TO',\n",
    "21:'MA',\n",
    "22 :'PI',\n",
    "23:'CE',\n",
    "24:'RN',\n",
    "25:'PB',\n",
    "26:'PE',\n",
    "27:'AL',\n",
    "28:'SE',\n",
    "29:'BA',\n",
    "31:'MG',\n",
    "32:'ES',\n",
    "33:'RJ',\n",
    "35:'SP',\n",
    "41:'PR',\n",
    "42:'SC',\n",
    "43:'RS',\n",
    "50:'MS',\n",
    "51:'MT',\n",
    "52:'GO',\n",
    "53:'DF'}\n",
    "\n"
   ]
  },
  {
   "cell_type": "code",
   "execution_count": 85,
   "metadata": {},
   "outputs": [
    {
     "data": {
      "text/html": [
       "<div>\n",
       "<style scoped>\n",
       "    .dataframe tbody tr th:only-of-type {\n",
       "        vertical-align: middle;\n",
       "    }\n",
       "\n",
       "    .dataframe tbody tr th {\n",
       "        vertical-align: top;\n",
       "    }\n",
       "\n",
       "    .dataframe thead th {\n",
       "        text-align: right;\n",
       "    }\n",
       "</style>\n",
       "<table border=\"1\" class=\"dataframe\">\n",
       "  <thead>\n",
       "    <tr style=\"text-align: right;\">\n",
       "      <th></th>\n",
       "      <th>CO_UF_CURSO</th>\n",
       "      <th>NU_IDADE</th>\n",
       "      <th>TP_PRES</th>\n",
       "      <th>CO_MODALIDADE</th>\n",
       "      <th>NT_GER</th>\n",
       "      <th>QE_I17</th>\n",
       "      <th>QE_I21</th>\n",
       "      <th>UF</th>\n",
       "    </tr>\n",
       "  </thead>\n",
       "  <tbody>\n",
       "    <tr>\n",
       "      <th>0</th>\n",
       "      <td>51</td>\n",
       "      <td>27</td>\n",
       "      <td>555</td>\n",
       "      <td>1</td>\n",
       "      <td>51.9</td>\n",
       "      <td>B</td>\n",
       "      <td>A</td>\n",
       "      <td>MT</td>\n",
       "    </tr>\n",
       "    <tr>\n",
       "      <th>1</th>\n",
       "      <td>51</td>\n",
       "      <td>26</td>\n",
       "      <td>555</td>\n",
       "      <td>1</td>\n",
       "      <td>54.2</td>\n",
       "      <td>B</td>\n",
       "      <td>A</td>\n",
       "      <td>MT</td>\n",
       "    </tr>\n",
       "  </tbody>\n",
       "</table>\n",
       "</div>"
      ],
      "text/plain": [
       "   CO_UF_CURSO  NU_IDADE  TP_PRES  CO_MODALIDADE  NT_GER QE_I17 QE_I21  UF\n",
       "0           51        27      555              1    51.9      B      A  MT\n",
       "1           51        26      555              1    54.2      B      A  MT"
      ]
     },
     "execution_count": 85,
     "metadata": {},
     "output_type": "execute_result"
    }
   ],
   "source": [
    "#Criando uma coluna para UF\n",
    "enade['UF']=enade.CO_UF_CURSO.map(UF_dicionario)\n",
    "enade.head(2)"
   ]
  },
  {
   "cell_type": "code",
   "execution_count": 86,
   "metadata": {},
   "outputs": [
    {
     "data": {
      "text/plain": [
       "SP    92555\n",
       "MG    48714\n",
       "RJ    32377\n",
       "PR    27992\n",
       "RS    21486\n",
       "SC    19979\n",
       "BA    18179\n",
       "PE    13745\n",
       "CE    13611\n",
       "GO    11577\n",
       "PB     9268\n",
       "DF     9082\n",
       "PA     8376\n",
       "MA     7203\n",
       "AM     7112\n",
       "RN     5864\n",
       "PI     5803\n",
       "ES     5646\n",
       "MT     5506\n",
       "SE     4486\n",
       "MS     4406\n",
       "AL     4364\n",
       "TO     3647\n",
       "RO     2883\n",
       "AP     1546\n",
       "AC     1487\n",
       "RR      745\n",
       "Name: UF, dtype: int64"
      ]
     },
     "execution_count": 86,
     "metadata": {},
     "output_type": "execute_result"
    }
   ],
   "source": [
    "#Quantos alunos por estados fizeram o Enade 2019?\n",
    "enade.UF.value_counts()"
   ]
  },
  {
   "cell_type": "code",
   "execution_count": 121,
   "metadata": {
    "scrolled": true
   },
   "outputs": [
    {
     "data": {
      "image/png": "[encoded data removed]",
      "text/plain": [
       "<Figure size 756x504 with 1 Axes>"
      ]
     },
     "metadata": {},
     "output_type": "display_data"
    }
   ],
   "source": [
    "#Gráfico de barra quantidade de candidatos por Estado\n",
    "sns.set_style(\"whitegrid\")\n",
    "g = sns.catplot(y='UF',data=enade,kind=\"count\",palette=\"Reds_r\", height=7, aspect=1.5)\n",
    "g.ax.set_title(\"Quandidade de candidatos por Estado\",fontdict={'size':18})\n",
    "g.ax.xaxis.set_label_text(\"Quandidade de Candidatos\",fontdict= {'size':16})\n",
    "g.ax.yaxis.set_label_text(\"\",fontdict= {'size':16})\n",
    "plt.show()"
   ]
  },
  {
   "cell_type": "code",
   "execution_count": 88,
   "metadata": {},
   "outputs": [],
   "source": [
    "mais_velho, mais_novo = [enade.NU_IDADE.max(),enade.NU_IDADE.min()]"
   ]
  },
  {
   "cell_type": "code",
   "execution_count": 89,
   "metadata": {},
   "outputs": [
    {
     "data": {
      "text/plain": [
       "11"
      ]
     },
     "execution_count": 89,
     "metadata": {},
     "output_type": "execute_result"
    }
   ],
   "source": [
    "# O candidato mais novo\n",
    "mais_novo"
   ]
  },
  {
   "cell_type": "code",
   "execution_count": 90,
   "metadata": {},
   "outputs": [
    {
     "data": {
      "text/plain": [
       "86"
      ]
     },
     "execution_count": 90,
     "metadata": {},
     "output_type": "execute_result"
    }
   ],
   "source": [
    "#O candidato mais velho\n",
    "mais_velho"
   ]
  },
  {
   "cell_type": "code",
   "execution_count": 91,
   "metadata": {},
   "outputs": [
    {
     "data": {
      "text/plain": [
       "27.38"
      ]
     },
     "execution_count": 91,
     "metadata": {},
     "output_type": "execute_result"
    }
   ],
   "source": [
    "#idade média dos candidatos\n",
    "round(enade.NU_IDADE.mean(),2) "
   ]
  },
  {
   "cell_type": "code",
   "execution_count": 92,
   "metadata": {},
   "outputs": [
    {
     "data": {
      "text/plain": [
       "23    61676\n",
       "24    53128\n",
       "25    42146\n",
       "22    41410\n",
       "26    30704\n",
       "      ...  \n",
       "75        1\n",
       "78        1\n",
       "81        1\n",
       "18        1\n",
       "86        1\n",
       "Name: NU_IDADE, Length: 64, dtype: int64"
      ]
     },
     "execution_count": 92,
     "metadata": {},
     "output_type": "execute_result"
    }
   ],
   "source": [
    "#Idade mais frequente\n",
    "enade.NU_IDADE.value_counts()\n",
    "#23 anos é idade mais frequente doS candidatos que fizeram a prova do Enade"
   ]
  },
  {
   "cell_type": "code",
   "execution_count": 93,
   "metadata": {
    "scrolled": true
   },
   "outputs": [
    {
     "data": {
      "image/png": "[encoded data removed]",
      "text/plain": [
       "<Figure size 360x360 with 1 Axes>"
      ]
     },
     "metadata": {},
     "output_type": "display_data"
    }
   ],
   "source": [
    "#Histograma da distribuição de idade\n",
    "sns.displot(enade, x= 'NU_IDADE',stat='density',binwidth=5)\n",
    "plt.show()"
   ]
  },
  {
   "cell_type": "code",
   "execution_count": 144,
   "metadata": {},
   "outputs": [],
   "source": [
    "maior_nota, menor_nota,media_nota,mediana_nota = [enade.NT_GER.max(),enade.NT_GER.min(),round(enade.NT_GER.mean(),2),enade.NT_GER.median() ]"
   ]
  },
  {
   "cell_type": "code",
   "execution_count": 145,
   "metadata": {},
   "outputs": [
    {
     "data": {
      "text/plain": [
       "0.0"
      ]
     },
     "execution_count": 145,
     "metadata": {},
     "output_type": "execute_result"
    }
   ],
   "source": [
    "# Menor nota\n",
    "menor_nota"
   ]
  },
  {
   "cell_type": "code",
   "execution_count": 147,
   "metadata": {},
   "outputs": [
    {
     "data": {
      "text/plain": [
       "93.0"
      ]
     },
     "execution_count": 147,
     "metadata": {},
     "output_type": "execute_result"
    }
   ],
   "source": [
    "# Maior nota\n",
    "maior_nota"
   ]
  },
  {
   "cell_type": "code",
   "execution_count": 148,
   "metadata": {},
   "outputs": [
    {
     "data": {
      "text/plain": [
       "43.8"
      ]
     },
     "execution_count": 148,
     "metadata": {},
     "output_type": "execute_result"
    }
   ],
   "source": [
    "# Mediana das notas\n",
    "mediana_nota\n",
    "\n",
    "# Metade dos alunos tiraram notas até 43.8"
   ]
  },
  {
   "cell_type": "code",
   "execution_count": 146,
   "metadata": {},
   "outputs": [
    {
     "data": {
      "text/plain": [
       "44.11"
      ]
     },
     "execution_count": 146,
     "metadata": {},
     "output_type": "execute_result"
    }
   ],
   "source": [
    "# média das notas\n",
    "media_nota"
   ]
  },
  {
   "cell_type": "code",
   "execution_count": 150,
   "metadata": {},
   "outputs": [
    {
     "name": "stderr",
     "output_type": "stream",
     "text": [
      "c:\\users\\flávio\\appdata\\local\\programs\\python\\python39\\lib\\site-packages\\seaborn\\distributions.py:2557: FutureWarning: `distplot` is a deprecated function and will be removed in a future version. Please adapt your code to use either `displot` (a figure-level function with similar flexibility) or `histplot` (an axes-level function for histograms).\n",
      "  warnings.warn(msg, FutureWarning)\n"
     ]
    },
    {
     "data": {
      "text/plain": [
       "<function matplotlib.pyplot.show(close=None, block=None)>"
      ]
     },
     "execution_count": 150,
     "metadata": {},
     "output_type": "execute_result"
    },
    {
     "data": {
      "image/png": "[encoded data removed]",
      "text/plain": [
       "<Figure size 576x432 with 1 Axes>"
      ]
     },
     "metadata": {},
     "output_type": "display_data"
    }
   ],
   "source": [
    "# Distribuição das notas dos candidatos\n",
    "fig,ax=plt.subplots(figsize=(8,6))\n",
    "sns.distplot(enade['NT_GER'],color =\"#33cc33\",ax=ax)\n",
    "ax.set_title('Distribuição das notas dos candidatos',fontsize=15)\n",
    "plt.xlabel('Notas dos candidatos',fontsize=15)\n",
    "plt.ylabel('Densidade(KDE)',fontsize=15)\n",
    "plt.show"
   ]
  },
  {
   "cell_type": "code",
   "execution_count": 94,
   "metadata": {},
   "outputs": [
    {
     "data": {
      "text/plain": [
       "(18049, 369590)"
      ]
     },
     "execution_count": 94,
     "metadata": {},
     "output_type": "execute_result"
    }
   ],
   "source": [
    "# Colocando a contagem de cada elemento de uma coluna em uma lista\n",
    "labels = ['EaD','Presencial']\n",
    "contagem = enade.CO_MODALIDADE.value_counts()[0],enade.CO_MODALIDADE.value_counts()[1]\n",
    "contagem"
   ]
  },
  {
   "cell_type": "code",
   "execution_count": 102,
   "metadata": {},
   "outputs": [
    {
     "data": {
      "image/png": "[encoded data removed]",
      "text/plain": [
       "<Figure size 576x432 with 1 Axes>"
      ]
     },
     "metadata": {},
     "output_type": "display_data"
    }
   ],
   "source": [
    "#Gráfico de setores da modalidade de ensino dos candidatos\n",
    "fig,ax1=plt.subplots(figsize=(8,6))\n",
    "cores = ['pink','blue']\n",
    "ax1.pie(contagem,autopct = '%1.0f%%',colors = cores,startangle=90)\n",
    "ax1.axis('equal') #centraliza o gráfico\n",
    "plt.title(\"Proporção do sexo dos candidatos\")\n",
    "plt.legend(labels, loc='upper right')\n",
    "plt.show()"
   ]
  },
  {
   "cell_type": "code",
   "execution_count": 104,
   "metadata": {},
   "outputs": [
    {
     "data": {
      "text/html": [
       "<div>\n",
       "<style scoped>\n",
       "    .dataframe tbody tr th:only-of-type {\n",
       "        vertical-align: middle;\n",
       "    }\n",
       "\n",
       "    .dataframe tbody tr th {\n",
       "        vertical-align: top;\n",
       "    }\n",
       "\n",
       "    .dataframe thead th {\n",
       "        text-align: right;\n",
       "    }\n",
       "</style>\n",
       "<table border=\"1\" class=\"dataframe\">\n",
       "  <thead>\n",
       "    <tr style=\"text-align: right;\">\n",
       "      <th></th>\n",
       "      <th>CO_UF_CURSO</th>\n",
       "      <th>NU_IDADE</th>\n",
       "      <th>TP_PRES</th>\n",
       "      <th>CO_MODALIDADE</th>\n",
       "      <th>NT_GER</th>\n",
       "      <th>QE_I17</th>\n",
       "      <th>QE_I21</th>\n",
       "      <th>UF</th>\n",
       "      <th>MODALIDADE</th>\n",
       "    </tr>\n",
       "  </thead>\n",
       "  <tbody>\n",
       "    <tr>\n",
       "      <th>0</th>\n",
       "      <td>51</td>\n",
       "      <td>27</td>\n",
       "      <td>555</td>\n",
       "      <td>1</td>\n",
       "      <td>51.9</td>\n",
       "      <td>B</td>\n",
       "      <td>A</td>\n",
       "      <td>MT</td>\n",
       "      <td>Presencial</td>\n",
       "    </tr>\n",
       "    <tr>\n",
       "      <th>1</th>\n",
       "      <td>51</td>\n",
       "      <td>26</td>\n",
       "      <td>555</td>\n",
       "      <td>1</td>\n",
       "      <td>54.2</td>\n",
       "      <td>B</td>\n",
       "      <td>A</td>\n",
       "      <td>MT</td>\n",
       "      <td>Presencial</td>\n",
       "    </tr>\n",
       "  </tbody>\n",
       "</table>\n",
       "</div>"
      ],
      "text/plain": [
       "   CO_UF_CURSO  NU_IDADE  TP_PRES  CO_MODALIDADE  NT_GER QE_I17 QE_I21  UF  \\\n",
       "0           51        27      555              1    51.9      B      A  MT   \n",
       "1           51        26      555              1    54.2      B      A  MT   \n",
       "\n",
       "   MODALIDADE  \n",
       "0  Presencial  \n",
       "1  Presencial  "
      ]
     },
     "execution_count": 104,
     "metadata": {},
     "output_type": "execute_result"
    }
   ],
   "source": [
    "#Criando uma coluna para modalidade\n",
    "DIC_MODALIDADE = {0:'EaD', 1:'Presencial'}\n",
    "enade['MODALIDADE']=enade.CO_MODALIDADE.map(DIC_MODALIDADE)\n",
    "\n"
   ]
  },
  {
   "cell_type": "code",
   "execution_count": 112,
   "metadata": {},
   "outputs": [
    {
     "data": {
      "image/png": "[encoded data removed]",
      "text/plain": [
       "<Figure size 576x432 with 1 Axes>"
      ]
     },
     "metadata": {},
     "output_type": "display_data"
    }
   ],
   "source": [
    "# Comparação do desempenho dos alunos da modalidade:EaD e Presencial\n",
    "sns.set_style(\"whitegrid\")\n",
    "fig, ax = plt.subplots(figsize=(8,6))\n",
    "sns.boxplot(x=enade['MODALIDADE'],y=enade['NT_GER'])\n",
    "ax.text(0.5,105,\"Notas dos candidatos por tipo de modalidade de ensino\",fontsize=18,color=\"r\",ha=\"center\", va=\"center\")\n",
    "ax.xaxis.set_label_text(\"Modalidade\",fontdict= {'size':14})\n",
    "ax.yaxis.set_label_text(\"Notas do candidato\",fontdict= {'size':14})\n",
    "plt.show()\n",
    "# O boxplot é um gráfico que avalia a distribuição. Nele podemos verificar \n",
    "# o primeiro, o terceiro quartil e a mediana, além dos outlier. \n",
    "\n",
    "# Sendo assim, observamos que a mediana dos alunos da modalidade presencial\n",
    "# é maior que a dos alunos EaD. \n",
    "\n",
    "#Observa-se que os alunos do ensino presencial tiveram um desempenho melhor"
   ]
  },
  {
   "cell_type": "code",
   "execution_count": 113,
   "metadata": {},
   "outputs": [],
   "source": [
    "#Criando uma coluna para tipo de escola que cursou o ensino médio\n",
    "dic_ensino = { 'A': \"Pública\", 'B': 'Particular', 'D':\"Pública e Particular\", 'E': \"Pública e Particular\"}\n",
    "enade['ensino'] = enade.QE_I17.map(dic_ensino)"
   ]
  },
  {
   "cell_type": "code",
   "execution_count": 117,
   "metadata": {},
   "outputs": [
    {
     "data": {
      "image/png": "[encoded data removed]",
      "text/plain": [
       "<Figure size 648x432 with 1 Axes>"
      ]
     },
     "metadata": {},
     "output_type": "display_data"
    }
   ],
   "source": [
    "# Contagem dos candidatos por tipo de escola que cursou o ensino médio\n",
    "sns.set_style(\"white\")\n",
    "g=sns.catplot(x='ensino',data=enade,kind='count',height = 6, aspect=1.5)\n",
    "g.ax.xaxis.set_label_text(\"Tipo de escola que cursou o ensino médio\",fontdict= {'size':16})\n",
    "g.ax.yaxis.set_label_text(\"Total de alunos por ensino\", fontdict= {'size':16})\n",
    "g.ax.set_title(\"Contagem de candidatos por tipo de escola que cursou o ensino médio\",fontdict= {'size':18})\n",
    "\n",
    "for p in g.ax.patches:\n",
    "    g.ax.annotate((p.get_height()), (p.get_x()+0.3, p.get_height()+1000))"
   ]
  },
  {
   "cell_type": "code",
   "execution_count": 120,
   "metadata": {},
   "outputs": [
    {
     "data": {
      "image/png": "[encoded data removed]",
      "text/plain": [
       "<Figure size 576x432 with 1 Axes>"
      ]
     },
     "metadata": {},
     "output_type": "display_data"
    }
   ],
   "source": [
    "# Comparação do desempenho por tipo de escola que cursou o ensino médio em escola : Pública, particular ou pública e particular\n",
    "sns.set_style(\"whitegrid\")\n",
    "fig, ax = plt.subplots(figsize=(8,6))\n",
    "sns.boxplot(x=enade['ensino'],y=enade['NT_GER'])\n",
    "ax.text(1.25,105,\"Notas dos candidatos  por tipo de escola que cursou no ensino médio\",fontsize=18,color=\"r\",ha=\"center\", va=\"center\")\n",
    "ax.xaxis.set_label_text(\" Tipo de escola que cursou no ensino médio\",fontdict= {'size':14})\n",
    "ax.yaxis.set_label_text(\"Notas dos candidatos\",fontdict= {'size':14})\n",
    "plt.show()\n",
    "\n",
    "#Observa-se que os candidatos que cursaram o ensino médio em escolas particulares tiveram um desempenho melhor"
   ]
  },
  {
   "cell_type": "code",
   "execution_count": 165,
   "metadata": {},
   "outputs": [
    {
     "data": {
      "text/html": [
       "<div>\n",
       "<style scoped>\n",
       "    .dataframe tbody tr th:only-of-type {\n",
       "        vertical-align: middle;\n",
       "    }\n",
       "\n",
       "    .dataframe tbody tr th {\n",
       "        vertical-align: top;\n",
       "    }\n",
       "\n",
       "    .dataframe thead th {\n",
       "        text-align: right;\n",
       "    }\n",
       "</style>\n",
       "<table border=\"1\" class=\"dataframe\">\n",
       "  <thead>\n",
       "    <tr style=\"text-align: right;\">\n",
       "      <th></th>\n",
       "      <th>UF</th>\n",
       "      <th>MODALIDADE</th>\n",
       "    </tr>\n",
       "  </thead>\n",
       "  <tbody>\n",
       "    <tr>\n",
       "      <th>123154</th>\n",
       "      <td>MT</td>\n",
       "      <td>Presencial</td>\n",
       "    </tr>\n",
       "  </tbody>\n",
       "</table>\n",
       "</div>"
      ],
      "text/plain": [
       "        UF  MODALIDADE\n",
       "123154  MT  Presencial"
      ]
     },
     "execution_count": 165,
     "metadata": {},
     "output_type": "execute_result"
    }
   ],
   "source": [
    "# De qual estado é o candidato mais velho e qual foi a modalidade de ensino?\n",
    "enade.loc[enade['NU_IDADE']==86][['UF','MODALIDADE']]"
   ]
  },
  {
   "cell_type": "code",
   "execution_count": 167,
   "metadata": {},
   "outputs": [
    {
     "data": {
      "text/html": [
       "<div>\n",
       "<style scoped>\n",
       "    .dataframe tbody tr th:only-of-type {\n",
       "        vertical-align: middle;\n",
       "    }\n",
       "\n",
       "    .dataframe tbody tr th {\n",
       "        vertical-align: top;\n",
       "    }\n",
       "\n",
       "    .dataframe thead th {\n",
       "        text-align: right;\n",
       "    }\n",
       "</style>\n",
       "<table border=\"1\" class=\"dataframe\">\n",
       "  <thead>\n",
       "    <tr style=\"text-align: right;\">\n",
       "      <th></th>\n",
       "      <th>MODALIDADE</th>\n",
       "      <th>ensino</th>\n",
       "    </tr>\n",
       "  </thead>\n",
       "  <tbody>\n",
       "    <tr>\n",
       "      <th>346836</th>\n",
       "      <td>Presencial</td>\n",
       "      <td>Particular</td>\n",
       "    </tr>\n",
       "  </tbody>\n",
       "</table>\n",
       "</div>"
      ],
      "text/plain": [
       "        MODALIDADE      ensino\n",
       "346836  Presencial  Particular"
      ]
     },
     "execution_count": 167,
     "metadata": {},
     "output_type": "execute_result"
    }
   ],
   "source": [
    "# Qual a modalidade de ensino e o tipo de escola que cursou no ensino médio o candidato com a  maior nota?\n",
    "enade.loc[enade['NT_GER']==93][['MODALIDADE','ensino']]"
   ]
  }
 ],
 "metadata": {
  "kernelspec": {
   "display_name": "Python 3",
   "language": "python",
   "name": "python3"
  },
  "language_info": {
   "codemirror_mode": {
    "name": "ipython",
    "version": 3
   },
   "file_extension": ".py",
   "mimetype": "text/x-python",
   "name": "python",
   "nbconvert_exporter": "python",
   "pygments_lexer": "ipython3",
   "version": "3.9.0"
  }
 },
 "nbformat": 4,
 "nbformat_minor": 4
}
